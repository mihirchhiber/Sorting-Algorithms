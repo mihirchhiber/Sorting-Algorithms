{
 "cells": [
  {
   "cell_type": "code",
   "execution_count": 2,
   "metadata": {},
   "outputs": [
    {
     "name": "stdout",
     "output_type": "stream",
     "text": [
      "[1, 2, 2, 3, 4, 6, 6]\n"
     ]
    }
   ],
   "source": [
    "def insertion_sort(ls):\n",
    "    for i in range(1,len(ls)):\n",
    "        j=i\n",
    "        while j>0:\n",
    "            if ls[j]<ls[j-1]:\n",
    "                ls[j], ls[j-1] = ls[j-1], ls[j]\n",
    "            j-=1\n",
    "ls = [2,6,3,4,6,1,2]\n",
    "insertion_sort(ls)\n",
    "print(ls)"
   ]
  },
  {
   "cell_type": "code",
   "execution_count": 4,
   "metadata": {},
   "outputs": [
    {
     "name": "stdout",
     "output_type": "stream",
     "text": [
      "[1, 2, 2, 3, 4, 6, 6]\n"
     ]
    }
   ],
   "source": [
    "def selection_sort(ls):\n",
    "    for i in range(len(ls)):\n",
    "        s = i\n",
    "        for j in range(i+1,len(ls)):\n",
    "            if ls[s]>ls[j]:\n",
    "                s = j\n",
    "        ls[s], ls[i] = ls[i], ls[s]\n",
    "ls = [2,6,3,4,6,1,2]\n",
    "selection_sort(ls)\n",
    "print(ls)"
   ]
  },
  {
   "cell_type": "code",
   "execution_count": 5,
   "metadata": {},
   "outputs": [
    {
     "name": "stdout",
     "output_type": "stream",
     "text": [
      "[1, 2, 2, 3, 4, 6, 6]\n"
     ]
    }
   ],
   "source": [
    "def bubble_sort(ls):\n",
    "    for i in range(1,len(ls)):\n",
    "        j = i\n",
    "        while j>0:\n",
    "            if ls[j]<ls[j-1]:\n",
    "                ls[j], ls[j-1] = ls[j-1], ls[j]\n",
    "            j-=1\n",
    "ls = [2,6,3,4,6,1,2]\n",
    "bubble_sort(ls)\n",
    "print(ls)"
   ]
  },
  {
   "cell_type": "code",
   "execution_count": 6,
   "metadata": {},
   "outputs": [
    {
     "name": "stdout",
     "output_type": "stream",
     "text": [
      "[1, 2, 3, 4, 5, 6, 7, 8, 9]\n"
     ]
    }
   ],
   "source": [
    "def merge_sort(ls1,ls2):\n",
    "    ls = []\n",
    "    i = 0\n",
    "    j = 0\n",
    "    while i+j < len(ls1+ls2):\n",
    "        if i == len(ls1):\n",
    "            while j < len(ls2):\n",
    "                ls.append(ls2[j])\n",
    "                j+=1\n",
    "        elif j == len(ls2):\n",
    "            while i < len(ls1):\n",
    "                ls.append(ls1[i])\n",
    "                i+=1\n",
    "        elif ls1[i] < ls2[j]:\n",
    "            ls.append(ls1[i])\n",
    "            i+=1\n",
    "        else:\n",
    "            ls.append(ls2[j])\n",
    "            j+=1\n",
    "    return ls\n",
    "ls1 = [1,3,5,7,8]\n",
    "ls2 = [2,4,6,9]\n",
    "print(merge_sort(ls1,ls2))"
   ]
  },
  {
   "cell_type": "code",
   "execution_count": 14,
   "metadata": {},
   "outputs": [
    {
     "name": "stdout",
     "output_type": "stream",
     "text": [
      "5\n"
     ]
    }
   ],
   "source": [
    "def binary_search(ls,obj):\n",
    "    first = 0\n",
    "    last = len(ls)-1\n",
    "    middle = (first+last)//2\n",
    "    while first<=last and ls[middle]!=obj:\n",
    "        if obj>ls[middle]:\n",
    "            first = middle+1\n",
    "        else:\n",
    "            last = middle-1\n",
    "        middle = (first+last)//2\n",
    "    if ls[middle] == obj:\n",
    "        return middle+1\n",
    "    else:\n",
    "        return -1\n",
    "ls = [1,2,3,4,5,6,7,8]\n",
    "print(binary_search(ls,5))"
   ]
  },
  {
   "cell_type": "code",
   "execution_count": 15,
   "metadata": {},
   "outputs": [
    {
     "name": "stdout",
     "output_type": "stream",
     "text": [
      "[1, 2, 2, 3, 4, 6, 6]\n"
     ]
    }
   ],
   "source": [
    "def quick_sort(ls):\n",
    "    if len(ls)<=1:\n",
    "        return ls\n",
    "    pivot = ls[0]\n",
    "    gre = []\n",
    "    les = []\n",
    "    for i in range(1,len(ls)):\n",
    "        if ls[i] > pivot:\n",
    "            gre.append(ls[i])\n",
    "        else:\n",
    "            les.append(ls[i])\n",
    "    return quick_sort(les) + [pivot] + quick_sort(gre)\n",
    "ls = [2,6,3,4,6,1,2]\n",
    "print(quick_sort(ls))"
   ]
  },
  {
   "cell_type": "code",
   "execution_count": 17,
   "metadata": {},
   "outputs": [
    {
     "name": "stdout",
     "output_type": "stream",
     "text": [
      "[1, 2, 2, 3, 4, 6, 6]\n"
     ]
    }
   ],
   "source": [
    "def shell_sort(ls):\n",
    "    gap = len(ls)//2\n",
    "    while gap > 0:\n",
    "        i=0\n",
    "        while i + gap < len(ls):\n",
    "            if ls[i] > ls[i+gap]:\n",
    "                ls[i], ls[i+gap] = ls[i+gap], ls[i]\n",
    "            i+=1\n",
    "        gap-=1\n",
    "ls = [2,6,3,4,6,1,2]\n",
    "shell_sort(ls)\n",
    "print(ls)"
   ]
  },
  {
   "cell_type": "code",
   "execution_count": 28,
   "metadata": {},
   "outputs": [
    {
     "name": "stdout",
     "output_type": "stream",
     "text": [
      "[6, 4, 3, 2, 6, 1]\n"
     ]
    },
    {
     "ename": "ValueError",
     "evalue": "math domain error",
     "output_type": "error",
     "traceback": [
      "\u001b[1;31m---------------------------------------------------------------------------\u001b[0m",
      "\u001b[1;31mValueError\u001b[0m                                Traceback (most recent call last)",
      "\u001b[1;32m<ipython-input-28-9a761adabea8>\u001b[0m in \u001b[0;36m<module>\u001b[1;34m\u001b[0m\n\u001b[0;32m     27\u001b[0m         \u001b[0mi\u001b[0m\u001b[1;33m+=\u001b[0m\u001b[1;36m1\u001b[0m\u001b[1;33m\u001b[0m\u001b[1;33m\u001b[0m\u001b[0m\n\u001b[0;32m     28\u001b[0m \u001b[0mls\u001b[0m \u001b[1;33m=\u001b[0m \u001b[1;33m[\u001b[0m\u001b[1;36m2\u001b[0m\u001b[1;33m,\u001b[0m\u001b[1;36m6\u001b[0m\u001b[1;33m,\u001b[0m\u001b[1;36m3\u001b[0m\u001b[1;33m,\u001b[0m\u001b[1;36m4\u001b[0m\u001b[1;33m,\u001b[0m\u001b[1;36m6\u001b[0m\u001b[1;33m,\u001b[0m\u001b[1;36m1\u001b[0m\u001b[1;33m,\u001b[0m\u001b[1;36m2\u001b[0m\u001b[1;33m]\u001b[0m\u001b[1;33m\u001b[0m\u001b[1;33m\u001b[0m\u001b[0m\n\u001b[1;32m---> 29\u001b[1;33m \u001b[0mheap_sort\u001b[0m\u001b[1;33m(\u001b[0m\u001b[0mls\u001b[0m\u001b[1;33m)\u001b[0m\u001b[1;33m\u001b[0m\u001b[1;33m\u001b[0m\u001b[0m\n\u001b[0m\u001b[0;32m     30\u001b[0m \u001b[0mprint\u001b[0m\u001b[1;33m(\u001b[0m\u001b[0mls\u001b[0m\u001b[1;33m)\u001b[0m\u001b[1;33m\u001b[0m\u001b[1;33m\u001b[0m\u001b[0m\n",
      "\u001b[1;32m<ipython-input-28-9a761adabea8>\u001b[0m in \u001b[0;36mheap_sort\u001b[1;34m(ls)\u001b[0m\n\u001b[0;32m     24\u001b[0m     \u001b[1;32mwhile\u001b[0m \u001b[0mi\u001b[0m \u001b[1;33m<\u001b[0m \u001b[0mlen\u001b[0m\u001b[1;33m(\u001b[0m\u001b[0mls\u001b[0m\u001b[1;33m)\u001b[0m\u001b[1;33m-\u001b[0m\u001b[1;36m2\u001b[0m\u001b[1;33m:\u001b[0m\u001b[1;33m\u001b[0m\u001b[1;33m\u001b[0m\u001b[0m\n\u001b[0;32m     25\u001b[0m         \u001b[0mprint\u001b[0m\u001b[1;33m(\u001b[0m\u001b[0mls\u001b[0m\u001b[1;33m[\u001b[0m\u001b[1;33m:\u001b[0m\u001b[1;33m-\u001b[0m\u001b[1;36m1\u001b[0m\u001b[1;33m]\u001b[0m\u001b[1;33m)\u001b[0m\u001b[1;33m\u001b[0m\u001b[1;33m\u001b[0m\u001b[0m\n\u001b[1;32m---> 26\u001b[1;33m         \u001b[0mmax_heap\u001b[0m\u001b[1;33m(\u001b[0m\u001b[0mls\u001b[0m\u001b[1;33m[\u001b[0m\u001b[1;33m:\u001b[0m\u001b[1;33m-\u001b[0m\u001b[0mi\u001b[0m\u001b[1;33m]\u001b[0m\u001b[1;33m)\u001b[0m\u001b[1;33m\u001b[0m\u001b[1;33m\u001b[0m\u001b[0m\n\u001b[0m\u001b[0;32m     27\u001b[0m         \u001b[0mi\u001b[0m\u001b[1;33m+=\u001b[0m\u001b[1;36m1\u001b[0m\u001b[1;33m\u001b[0m\u001b[1;33m\u001b[0m\u001b[0m\n\u001b[0;32m     28\u001b[0m \u001b[0mls\u001b[0m \u001b[1;33m=\u001b[0m \u001b[1;33m[\u001b[0m\u001b[1;36m2\u001b[0m\u001b[1;33m,\u001b[0m\u001b[1;36m6\u001b[0m\u001b[1;33m,\u001b[0m\u001b[1;36m3\u001b[0m\u001b[1;33m,\u001b[0m\u001b[1;36m4\u001b[0m\u001b[1;33m,\u001b[0m\u001b[1;36m6\u001b[0m\u001b[1;33m,\u001b[0m\u001b[1;36m1\u001b[0m\u001b[1;33m,\u001b[0m\u001b[1;36m2\u001b[0m\u001b[1;33m]\u001b[0m\u001b[1;33m\u001b[0m\u001b[1;33m\u001b[0m\u001b[0m\n",
      "\u001b[1;32m<ipython-input-28-9a761adabea8>\u001b[0m in \u001b[0;36mmax_heap\u001b[1;34m(ls)\u001b[0m\n\u001b[0;32m     10\u001b[0m \u001b[1;32mdef\u001b[0m \u001b[0mmax_heap\u001b[0m\u001b[1;33m(\u001b[0m\u001b[0mls\u001b[0m\u001b[1;33m)\u001b[0m\u001b[1;33m:\u001b[0m\u001b[1;33m\u001b[0m\u001b[1;33m\u001b[0m\u001b[0m\n\u001b[0;32m     11\u001b[0m     \u001b[0mi\u001b[0m \u001b[1;33m=\u001b[0m \u001b[1;36m1\u001b[0m\u001b[1;33m\u001b[0m\u001b[1;33m\u001b[0m\u001b[0m\n\u001b[1;32m---> 12\u001b[1;33m     \u001b[1;32mwhile\u001b[0m \u001b[0mi\u001b[0m\u001b[1;33m<\u001b[0m\u001b[1;36m2\u001b[0m\u001b[1;33m**\u001b[0m\u001b[0mint\u001b[0m\u001b[1;33m(\u001b[0m\u001b[0mlog\u001b[0m\u001b[1;33m(\u001b[0m\u001b[0mlen\u001b[0m\u001b[1;33m(\u001b[0m\u001b[0mls\u001b[0m\u001b[1;33m)\u001b[0m\u001b[1;33m,\u001b[0m\u001b[1;36m2\u001b[0m\u001b[1;33m)\u001b[0m\u001b[1;33m)\u001b[0m\u001b[1;33m:\u001b[0m\u001b[1;33m\u001b[0m\u001b[1;33m\u001b[0m\u001b[0m\n\u001b[0m\u001b[0;32m     13\u001b[0m         \u001b[1;32mif\u001b[0m \u001b[0mls\u001b[0m\u001b[1;33m[\u001b[0m\u001b[0mi\u001b[0m\u001b[1;33m-\u001b[0m\u001b[1;36m1\u001b[0m\u001b[1;33m]\u001b[0m \u001b[1;33m<\u001b[0m \u001b[0mls\u001b[0m\u001b[1;33m[\u001b[0m\u001b[1;36m2\u001b[0m\u001b[1;33m*\u001b[0m\u001b[0mi\u001b[0m\u001b[1;33m]\u001b[0m\u001b[1;33m:\u001b[0m\u001b[1;33m\u001b[0m\u001b[1;33m\u001b[0m\u001b[0m\n\u001b[0;32m     14\u001b[0m             \u001b[0mls\u001b[0m\u001b[1;33m[\u001b[0m\u001b[0mi\u001b[0m\u001b[1;33m-\u001b[0m\u001b[1;36m1\u001b[0m\u001b[1;33m]\u001b[0m\u001b[1;33m,\u001b[0m \u001b[0mls\u001b[0m\u001b[1;33m[\u001b[0m\u001b[1;36m2\u001b[0m\u001b[1;33m*\u001b[0m\u001b[0mi\u001b[0m\u001b[1;33m]\u001b[0m \u001b[1;33m=\u001b[0m \u001b[0mls\u001b[0m\u001b[1;33m[\u001b[0m\u001b[1;36m2\u001b[0m\u001b[1;33m*\u001b[0m\u001b[0mi\u001b[0m\u001b[1;33m]\u001b[0m\u001b[1;33m,\u001b[0m \u001b[0mls\u001b[0m\u001b[1;33m[\u001b[0m\u001b[0mi\u001b[0m\u001b[1;33m-\u001b[0m\u001b[1;36m1\u001b[0m\u001b[1;33m]\u001b[0m\u001b[1;33m\u001b[0m\u001b[1;33m\u001b[0m\u001b[0m\n",
      "\u001b[1;31mValueError\u001b[0m: math domain error"
     ]
    }
   ],
   "source": [
    "#Doesn't work\n",
    "\n",
    "from math import log\n",
    "def heaping(ls):\n",
    "    i = 1\n",
    "    while i<2**int(log(len(ls),2)):\n",
    "        if ls[i-1] < ls[2*i-1]:\n",
    "            ls[i-1], ls[2*i-1] = ls[2*i-1], ls[i-1]\n",
    "        elif ls[i-1] < ls[2*i]:\n",
    "            ls[i-1], ls[2*i] = ls[2*i], ls[i-1]\n",
    "        i+=1\n",
    "def max_heap(ls):\n",
    "    i = 1\n",
    "    while i<2**int(log(len(ls),2)):\n",
    "        if ls[i-1] < ls[2*i]:\n",
    "            ls[i-1], ls[2*i] = ls[2*i], ls[i-1]\n",
    "            i = 2*i+1\n",
    "        elif ls[i-1] < ls[2*i-1]:\n",
    "            ls[i-1], ls[2*i-1] = ls[2*i-1], ls[i-1]\n",
    "            i = 2*i\n",
    "        else:\n",
    "            break\n",
    "def heap_sort(ls):\n",
    "    heaping(ls)\n",
    "    i = 0\n",
    "    while i < len(ls)-2:\n",
    "        print(ls[:-1])\n",
    "        max_heap(ls[:-i])\n",
    "        i+=1 \n",
    "ls = [2,6,3,4,6,1,2]\n",
    "heap_sort(ls)\n",
    "print(ls)"
   ]
  },
  {
   "cell_type": "code",
   "execution_count": null,
   "metadata": {},
   "outputs": [],
   "source": []
  }
 ],
 "metadata": {
  "kernelspec": {
   "display_name": "Python 3",
   "language": "python",
   "name": "python3"
  },
  "language_info": {
   "codemirror_mode": {
    "name": "ipython",
    "version": 3
   },
   "file_extension": ".py",
   "mimetype": "text/x-python",
   "name": "python",
   "nbconvert_exporter": "python",
   "pygments_lexer": "ipython3",
   "version": "3.7.6"
  }
 },
 "nbformat": 4,
 "nbformat_minor": 4
}
